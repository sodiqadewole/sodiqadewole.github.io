{
 "cells": [
  {
   "cell_type": "markdown",
   "id": "aac0d72d",
   "metadata": {},
   "source": [
    "Model Context Protocol (MCP) was open-sourced by Anthropic in November 2024 to standardize the way AI assistants connects to the systems where data lives, including content repositories, business tools and development environments.\n",
    "\n",
    "AI assistants (LLMs and SLMs) currently rely on knowledge encoded into their parameters during training. However, as investment in agentic AI systems gain more adoption and with increasing investment on reasoning capability of language models, MCP allows users build truly agentic and complex workflows on top of AI models. Language models often require integration with data and tools to orchestrate and automate complex workflows. \n",
    "\n",
    "Other benefits of MCP includes:\n",
    "\n",
    "- Flexibility to integrate LLMs and SLMs with a growing list of pre-built tools to directly plug into.\n",
    "- The flexibility to leverage commoditized LLMs, offering users the room to switch between LLM providers and vendors.\n",
    "- Best practices for securing your data within on-premise infrastructure."
   ]
  },
  {
   "cell_type": "markdown",
   "id": "7bfc4299",
   "metadata": {},
   "source": [
    "#### MCP Servers\n",
    "\n",
    "MCP servers relies on three (3) transport mechanisms:\n",
    "- Standard Input Output: here servers run as a subprocess of users application running locally.\n",
    "- HTTP over Server Side Encryption: servers run remotely and can be connected to via a url.\n",
    "- Streamable HTTP where servers run remotely using the streamable HTTP transport defined in the MCP specification.\n",
    "\n",
    "##### MCP Server in python"
   ]
  },
  {
   "cell_type": "code",
   "execution_count": null,
   "id": "273db95f",
   "metadata": {},
   "outputs": [],
   "source": [
    "import random\n",
    "\n",
    "import requests\n",
    "from mcp.server.fastmcp import FastMCP\n",
    "\n",
    "# Create server\n",
    "mcp = FastMCP(\"Echo Server\")\n",
    "\n",
    "\n",
    "@mcp.tool()\n",
    "def add(a: int, b: int) -> int:\n",
    "    \"\"\"Add two numbers\"\"\"\n",
    "    print(f\"[debug-server] add({a}, {b})\")\n",
    "    return a + b\n",
    "\n",
    "\n",
    "@mcp.tool()\n",
    "def get_secret_word() -> str:\n",
    "    print(\"[debug-server] get_secret_word()\")\n",
    "    return random.choice([\"apple\", \"banana\", \"cherry\"])\n",
    "\n",
    "\n",
    "@mcp.tool()\n",
    "def get_current_weather(city: str) -> str:\n",
    "    print(f\"[debug-server] get_current_weather({city})\")\n",
    "\n",
    "    endpoint = \"https://wttr.in\"\n",
    "    response = requests.get(f\"{endpoint}/{city}\")\n",
    "    return response.text"
   ]
  },
  {
   "cell_type": "code",
   "execution_count": null,
   "id": "b7f41ff5",
   "metadata": {},
   "outputs": [],
   "source": []
  }
 ],
 "metadata": {
  "kernelspec": {
   "display_name": "transformer_env",
   "language": "python",
   "name": "python3"
  },
  "language_info": {
   "name": "python",
   "version": "-1.-1.-1"
  }
 },
 "nbformat": 4,
 "nbformat_minor": 5
}
