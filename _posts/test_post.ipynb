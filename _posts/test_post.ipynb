{
 "cells": [
  {
   "cell_type": "markdown",
   "id": "493a6b47",
   "metadata": {},
   "source": [
    "---\n",
    "layout: post\n",
    "title: Test Post\n",
    "tags: Intelligent Systems\n",
    "published: true\n",
    "---\n",
    "This is a test notebook"
   ]
  }
 ],
 "metadata": {
  "language_info": {
   "name": "python"
  }
 },
 "nbformat": 4,
 "nbformat_minor": 5
}
